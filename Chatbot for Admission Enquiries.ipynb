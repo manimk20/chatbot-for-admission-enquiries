{
 "cells": [
  {
   "cell_type": "code",
   "execution_count": 1,
   "metadata": {},
   "outputs": [
    {
     "name": "stdout",
     "output_type": "stream",
     "text": [
      "Hi! I'm a simple chatbot. Type 'Bye' to exit.\n",
      "Chatbot:Hello! How can I help you today?\n",
      "Chatbot: In B.E, we have Nine Departments Artificial Intelligence and Data Science (AI&DS), Automobile Engineering, Civil Engineering (CE), Computer Science and Engineering (CSE), Electrical and Electronics Engineering (EEE), ELECTRONICS AND COMMUNICATION ENGINEERING(ECE), Electronics and Instrumentation Engineering (EIE), Information Technology(IT), Mechanical Engineering(Mech)\n",
      "Chatbot: Sorry, I didn't understand that. Can you please rephrase?\n",
      "Chatbot:Our College TNEA code is '1120'\n",
      "Chatbot: Sorry, I didn't understand that. Can you please rephrase?\n",
      "Chatbot: Sorry, I didn't understand that. Can you please rephrase?\n",
      "Chatbot:Our College TNEA code is '1120'\n",
      "Chatbot: Thank you! Have a great day!\n"
     ]
    }
   ],
   "source": [
    "def chatbot():\n",
    "    print(\"Hi! I'm a simple chatbot. Type 'Bye' to exit.\")\n",
    "    while True:\n",
    "        user_input = input('You:' )\n",
    "        if user_input == 'Hi' or user_input == 'Hii' or user_input == 'hi' or user_input == 'hii' or user_input == 'Hello'or user_input =='hello'or user_input =='hy'or user_input =='helo'or user_input =='Good Morning'or user_input =='Good Evening'or user_input =='Good Afterrnoon'or user_input =='good morning'or user_input =='good afternoon' or user_input == 'good evening'or user_input =='gd mrng'or user_input =='gd nonn'or user_input =='gd eve':\n",
    "            print('Chatbot:Hello! How can I help you today?')\n",
    "        elif user_input == 'How many departments are there in this college?' or user_input == 'Can you please give me the name of the departments?':\n",
    "            print('Chatbot: In B.E, we have Nine Departments Artificial Intelligence and Data Science (AI&DS), Automobile Engineering, Civil Engineering (CE), Computer Science and Engineering (CSE), Electrical and Electronics Engineering (EEE), ELECTRONICS AND COMMUNICATION ENGINEERING(ECE), Electronics and Instrumentation Engineering (EIE), Information Technology(IT), Mechanical Engineering(Mech)')\n",
    "        elif user_input == 'how to apply for admission?' or user_input == 'How to apply for admission?' or user_input == 'What is the admission contact number' or user_input == 'admission contact number' or user_input == 'Admission contact number' or user_input == 'What types of scholarships are available for incoming students?':\n",
    "            print('Chatbot: For inquiries about admissions or scholarships, please contact us at 893922 1120 or 91235 47550')\n",
    "        elif user_input == 'what is the counseling code?' or user_input == 'What is the counseling code for admission?' or user_input == 'What is the counseling code?' or user_input == 'TNEA code' or user_input == 'TNEA Code':\n",
    "            print(\"Chatbot:Our College TNEA code is '1120'\")\n",
    "        elif user_input == 'bye' or user_input == 'Thank you' or user_input == 'Thank you!' or user_input == 'thank you' or user_input == 'Bye' or user_input == 'Good bye' or user_input == 'good bye' or user_input == 'Ok, thank you' or user_input == 'ok, thank you' or user_input == 'ok thank you':\n",
    "            print('Chatbot: Thank you! Have a great day!')\n",
    "            break\n",
    "        else:\n",
    "            print(\"Chatbot: Sorry, I didn't understand that. Can you please rephrase?\")\n",
    "if __name__ == '__main__':\n",
    "    chatbot()      "
   ]
  },
  {
   "cell_type": "code",
   "execution_count": null,
   "metadata": {},
   "outputs": [],
   "source": []
  }
 ],
 "metadata": {
  "kernelspec": {
   "display_name": "base",
   "language": "python",
   "name": "python3"
  },
  "language_info": {
   "codemirror_mode": {
    "name": "ipython",
    "version": 3
   },
   "file_extension": ".py",
   "mimetype": "text/x-python",
   "name": "python",
   "nbconvert_exporter": "python",
   "pygments_lexer": "ipython3",
   "version": "3.10.9"
  }
 },
 "nbformat": 4,
 "nbformat_minor": 2
}
